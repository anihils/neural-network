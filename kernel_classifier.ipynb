{
 "cells": [
  {
   "cell_type": "markdown",
   "metadata": {},
   "source": [
    "## Kernel classifier"
   ]
  },
  {
   "cell_type": "code",
   "execution_count": 2,
   "metadata": {},
   "outputs": [],
   "source": [
    "import numpy as np\n",
    "import matplotlib.pyplot as plt\n",
    "from scipy.io import loadmat\n",
    "dataset = loadmat('face_emotion_data.mat')\n",
    "\n",
    "X, Y = dataset['X'], dataset['y']\n",
    "n, p = np.shape(X)\n",
    "X = np.hstack((np.ones((n,1)), X))  # append a column of ones\n",
    "n, p = np.shape(X)\n",
    "\n",
    "sigma_arr = np.linspace(0.1,30,300)\n",
    "lam = 0.5"
   ]
  },
  {
   "cell_type": "code",
   "execution_count": 3,
   "metadata": {},
   "outputs": [],
   "source": [
    "error_rates = [] # for plot\n",
    "\n",
    "# Calculate kernel value\n",
    "distsq=np.zeros((n,n),dtype=float)\n",
    "for i in range(0,n):\n",
    "    for j in range(0,n):\n",
    "        d = np.linalg.norm(X[i,:]-X[j,:])\n",
    "        distsq[i,j]=d**2\n",
    "        \n",
    "for sigma in sigma_arr: \n",
    "    K = np.exp(-distsq/(2*sigma**2))\n",
    "    alpha = np.linalg.inv(K+lam*np.identity(n))@Y\n",
    "\n",
    "    # Predict labels \n",
    "    Yhat = K@alpha\n",
    "    error = np.mean(np.sign(Yhat)!=Y)\n",
    "    error_rates = np.concatenate((error_rates, [error]))"
   ]
  },
  {
   "cell_type": "code",
   "execution_count": 4,
   "metadata": {},
   "outputs": [
    {
     "data": {
      "image/png": "[encoded data removed]",
      "text/plain": [
       "<Figure size 432x288 with 1 Axes>"
      ]
     },
     "metadata": {
      "needs_background": "light"
     },
     "output_type": "display_data"
    },
    {
     "name": "stdout",
     "output_type": "stream",
     "text": [
      "Small sigma values (0.1-2.2 on average) can achieve 0% training error, while larger sigma values lead to an \n",
      "increase in training error. This is because a larger sigma smoothens the curve and focuses more on dominant features, which means the error between the predicted label and the average data label increases.\n"
     ]
    }
   ],
   "source": [
    "plt.plot(sigma_arr, error_rates, 'b-')\n",
    "plt.title('Sigma value vs training eror')\n",
    "plt.xlabel('Sigma value')\n",
    "plt.ylabel('training error %')\n",
    "plt.show()\n",
    "\n",
    "print('Small sigma values (0.1-2.2 on average) can achieve 0% training error, while larger sigma values lead to an ')\n",
    "print('increase in training error. This is because a larger sigma smoothens the curve and focuses more on dominant features, which means the error between the predicted label and the average data label increases.')"
   ]
  },
  {
   "cell_type": "code",
   "execution_count": 4,
   "metadata": {},
   "outputs": [],
   "source": [
    "## Setup for CV - create 8 sets and each set is the holdout set in one case\n",
    "setindices = [[0,16],[16,32],[32,48],[48,64],[64,80],[80,96],[96,112],[112,128]]\n",
    "cases = len(setindices) # 8\n",
    "cv_error_rates = [] # for plot\n",
    "\n",
    "for  sigma in sigma_arr:\n",
    "    error_rates = [] # for plot\n",
    "    for z in range(cases):   \n",
    "        val_ind = np.arange(setindices[[z][0]][0], setindices[[z][0]][1]) # indices for validation set\n",
    "        train_ind = list(set(range(128))-set(val_ind)) # training set indices\n",
    "    \n",
    "        # matrix of features and labels corresponding to validation set\n",
    "        Xval = X[val_ind,:]\n",
    "        Yval = Y[val_ind]\n",
    "    \n",
    "        # matrix of features and labels corresponding to the training set\n",
    "        Xt = X[train_ind,:]\n",
    "        Yt = Y[train_ind]\n",
    "        m, k  = np.shape(Xt)\n",
    "\n",
    "        # Calculate kernel value from training set\n",
    "        distsq=np.zeros((m,m),dtype=float)\n",
    "        for i in range(m):\n",
    "            for j in range(m):\n",
    "                d = np.linalg.norm(Xt[i,:]-Xt[j,:])\n",
    "                distsq[i,j]=d**2\n",
    "        K = np.exp(-distsq/(2*sigma**2))\n",
    "        \n",
    "        # Calculate weights from training set\n",
    "        alpha = np.linalg.inv(K+lam*np.identity(m))@Yt\n",
    "\n",
    "        # Calculate kernel value from testing set\n",
    "        newdistsq=np.zeros((n-m,m),dtype=float)\n",
    "        for i in range(n-m):\n",
    "            for j in range(m):\n",
    "                d = np.linalg.norm(Xval[i,:]-Xt[j,:])\n",
    "                newdistsq[i,j]=d**2\n",
    "        newK = np.exp(-newdistsq/(2*sigma**2))\n",
    "    \n",
    "        Yhat = newK@alpha\n",
    "\n",
    "        error = np.mean(np.sign(Yhat)!=Yval)\n",
    "        error_rates = np.concatenate((error_rates, [error]))\n",
    "    cv_error_rates = np.concatenate((cv_error_rates, [np.mean(error_rates)]))"
   ]
  },
  {
   "cell_type": "code",
   "execution_count": 12,
   "metadata": {},
   "outputs": [
    {
     "data": {
      "image/png": "[encoded data removed]",
      "text/plain": [
       "<Figure size 432x288 with 1 Axes>"
      ]
     },
     "metadata": {
      "needs_background": "light"
     },
     "output_type": "display_data"
    },
    {
     "name": "stdout",
     "output_type": "stream",
     "text": [
      "Average cross validation error: 0.11518229166666667 (perfect test accuracy cannot be achieved)\n"
     ]
    }
   ],
   "source": [
    "# Plot\n",
    "plt.plot(sigma_arr, cv_error_rates, 'b-')\n",
    "plt.title('Sigma value vs CV testing error')\n",
    "plt.xlabel('Sigma value')\n",
    "plt.ylabel('training error %')\n",
    "plt.show()\n",
    "print('Average cross validation error:', np.mean(cv_error_rates),'(perfect test accuracy cannot be achieved)')"
   ]
  },
  {
   "cell_type": "code",
   "execution_count": null,
   "metadata": {},
   "outputs": [],
   "source": []
  },
  {
   "cell_type": "code",
   "execution_count": null,
   "metadata": {},
   "outputs": [],
   "source": []
  }
 ],
 "metadata": {
  "kernelspec": {
   "display_name": "Python 3",
   "language": "python",
   "name": "python3"
  },
  "language_info": {
   "codemirror_mode": {
    "name": "ipython",
    "version": 3
   },
   "file_extension": ".py",
   "mimetype": "text/x-python",
   "name": "python",
   "nbconvert_exporter": "python",
   "pygments_lexer": "ipython3",
   "version": "3.9.5"
  }
 },
 "nbformat": 4,
 "nbformat_minor": 2
}
